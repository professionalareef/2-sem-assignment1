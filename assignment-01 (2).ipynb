{
 "cells": [
  {
   "cell_type": "code",
   "execution_count": null,
   "id": "a5ee4a5a-c051-42e5-8e5d-f9e826b9b0ab",
   "metadata": {},
   "outputs": [],
   "source": [
    "roll=int(input(\"Enter the roll number:\"))\n",
    "name_of=input(\"Enetr the student name:\")\n",
    "sub_count=int(input(\"enter the count of subject:\"))\n",
    "mark1=[]\n",
    "print(\"STUDENT MARK DETAIL...\")\n",
    "for i in range(sub_count):\n",
    "    m1 = input(\"Enter subject name:\")\n",
    "    mark=mark1.append(int(input(\"Enter subject mark:\")))\n",
    "def call():\n",
    "    avg = sum(mark1)\n",
    "    div=avg/sub_count\n",
    "    print(avg)\n",
    "    print(div)\n",
    "    if div>= 80:\n",
    "        print (\"Grade: A\")\n",
    "        print(\"Destintion\")\n",
    "    elif div>= 70 and div<80: \n",
    "        print (\"Grade: B\")\n",
    "        print(\"Good Mark\")\n",
    "    elif div>= 60 and div<70: \n",
    "        print (\"Grade: C\")\n",
    "        print(\"Average\")\n",
    "    elif div>= 50 and div<60:\n",
    "        print (\"Grade: D\")\n",
    "        print(\"Need improvement\")\n",
    "    else:\n",
    "        print (\"Grade: E\")\n",
    "        print(\"Fail\")\n",
    "print(call())"
   ]
  },
  {
   "cell_type": "code",
   "execution_count": null,
   "id": "b7aba4c6-e32e-4ca6-a607-2ecb437be2c0",
   "metadata": {},
   "outputs": [],
   "source": []
  }
 ],
 "metadata": {
  "kernelspec": {
   "display_name": "Python 3 (ipykernel)",
   "language": "python",
   "name": "python3"
  },
  "language_info": {
   "codemirror_mode": {
    "name": "ipython",
    "version": 3
   },
   "file_extension": ".py",
   "mimetype": "text/x-python",
   "name": "python",
   "nbconvert_exporter": "python",
   "pygments_lexer": "ipython3",
   "version": "3.10.13"
  }
 },
 "nbformat": 4,
 "nbformat_minor": 5
}
